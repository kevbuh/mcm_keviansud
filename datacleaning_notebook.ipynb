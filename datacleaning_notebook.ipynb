{
 "cells": [
  {
   "cell_type": "code",
   "execution_count": 1,
   "metadata": {},
   "outputs": [],
   "source": [
    "import pandas as pd\n",
    "import numpy as np"
   ]
  },
  {
   "cell_type": "code",
   "execution_count": 2,
   "metadata": {},
   "outputs": [],
   "source": [
    "dfHDI=pd.read_csv('hdi.csv', on_bad_lines='skip')\n",
    "dfGNI=pd.read_csv('gni.csv', on_bad_lines='skip')\n",
    "dfEdu=pd.read_csv('education_index.csv', on_bad_lines='skip')\n",
    "dfUnemploy=pd.read_csv('unenployment.csv', on_bad_lines='skip')\n",
    "dfHDI.dropna(axis='columns',how='all',inplace=True)\n",
    "dfGNI.dropna(axis='columns',how='all',inplace=True)\n",
    "dfEdu.dropna(axis='columns',how='all',inplace=True)\n",
    "dfUnemploy.dropna(axis='columns',how='all',inplace=True)\n",
    "\n",
    "dfGNI=dfGNI.applymap(lambda x: x/10000)\n",
    "\n",
    "dfGNIT=dfGNI.transpose()\n",
    "dfHDIT=dfHDI.transpose()\n",
    "dfEduT=dfEdu.transpose()\n",
    "dfUnemployT=dfUnemploy.transpose()\n",
    "\n",
    "\n"
   ]
  },
  {
   "cell_type": "code",
   "execution_count": 17,
   "metadata": {},
   "outputs": [
    {
     "data": {
      "text/plain": [
       "array([ 1.32002308e+01,  1.10763894e-02, -6.95657256e-03, -4.89506072e-02])"
      ]
     },
     "execution_count": 17,
     "metadata": {},
     "output_type": "execute_result"
    }
   ],
   "source": [
    "\n",
    "\n",
    "ArabStatesHDI=dfHDI.loc[['Arab States']]\n",
    "ArabStatesGNI=dfGNI.loc[['Arab States']]\n",
    "ArabStatesEdu=dfEdu.loc[['Arab States']]\n",
    "ArabStatesUnemploy=dfUnemploy.loc[['Arab States']]\n",
    "\n",
    "ArabFrames=[ArabStatesEdu, ArabStatesGNI, ArabStatesUnemploy, ArabStatesHDI]\n",
    "\n",
    "\n",
    "dfArab = pd.concat(ArabFrames)\n",
    "dfArab=dfArab.loc[:,'2016':]\n",
    "np.linalg.eigvals(dfArab)\n",
    "# WE GOT THE EIGENVALUES (1/6)\n",
    "\n",
    "\n",
    "\n",
    "\n"
   ]
  },
  {
   "cell_type": "code",
   "execution_count": 4,
   "metadata": {},
   "outputs": [],
   "source": [
    "ArabAverageHDI=dfHDIT['Arab States'].mean()\n",
    "ArabAverageGNI=dfGNIT['Arab States'].mean()\n",
    "ArabAverageEdu=dfEduT['Arab States'].mean()\n",
    "ArabAverageUnemploy=dfUnemployT['Arab States'].mean()\n",
    "\n",
    "EastAsiaAverageHDI=dfHDIT['East Asia and the Pacific'].mean()\n",
    "EastAsiaAverageGNI=dfGNIT['East Asia and the Pacific'].mean()\n",
    "EastAsiaAverageEdu=dfEduT['East Asia and the Pacific'].mean()\n",
    "EastAsiaAverageUnemploy=dfUnemployT['East Asia and the Pacific'].mean()\n",
    "\n",
    "EuropeAverageHDI=dfHDIT['Europe and Central Asia'].mean()\n",
    "EuropeAverageGNI=dfGNIT['Europe and Central Asia'].mean()\n",
    "EuropeAverageEdu=dfEduT['Europe and Central Asia'].mean()\n",
    "EuropeAverageUnemploy=dfUnemployT['Europe and Central Asia'].mean()\n",
    "\n",
    "LatinAverageHDI=dfHDIT['Latin America and the Caribbean'].mean()\n",
    "LatinAverageGNI=dfGNIT['Latin America and the Caribbean'].mean()\n",
    "LatinAverageEdu=dfEduT['Latin America and the Caribbean'].mean()\n",
    "LatinAverageUnemploy=dfUnemployT['Latin America and the Caribbean'].mean()\n",
    "\n",
    "AfricaHDIAverage=dfHDIT['Sub-Saharan Africa'].mean()\n",
    "AfricaGNIAverage=dfGNIT['Sub-Saharan Africa'].mean()\n",
    "AfricaEduAverage=dfEduT['Sub-Saharan Africa'].mean()\n",
    "AfricaUnemployAverage=dfUnemployT['Sub-Saharan Africa'].mean()\n",
    "\n",
    "IslandHDIAverage=dfHDIT['Small Island Developing States'].mean()\n",
    "IslandGNIAverage=dfGNIT['Small Island Developing States'].mean()\n",
    "IslandEduAverage=dfEduT['Small Island Developing States'].mean()\n",
    "IslandUnemployAverage=dfUnemployT['Small Island Developing States'].mean()\n",
    "\n",
    "\n",
    "\n"
   ]
  }
 ],
 "metadata": {
  "interpreter": {
   "hash": "aee8b7b246df8f9039afb4144a1f6fd8d2ca17a180786b69acc140d282b71a49"
  },
  "kernelspec": {
   "display_name": "Python 3.9.5 64-bit",
   "language": "python",
   "name": "python3"
  },
  "language_info": {
   "codemirror_mode": {
    "name": "ipython",
    "version": 3
   },
   "file_extension": ".py",
   "mimetype": "text/x-python",
   "name": "python",
   "nbconvert_exporter": "python",
   "pygments_lexer": "ipython3",
   "version": "3.9.5"
  },
  "orig_nbformat": 4
 },
 "nbformat": 4,
 "nbformat_minor": 2
}
