{
 "cells": [
  {
   "cell_type": "code",
   "execution_count": 8,
   "metadata": {},
   "outputs": [],
   "source": [
    "import pandas as pd"
   ]
  },
  {
   "cell_type": "code",
   "execution_count": 9,
   "metadata": {},
   "outputs": [],
   "source": [
    "def Normalize(temp_dataset, nCol, weights):\n",
    "    # normalizing the array\n",
    "    # normalizes all the data between 0 and 1\n",
    "    # print(\" Normalizing the DataSet...\\n\")\n",
    "    for i in range(1, nCol):\n",
    "        temp = 0\n",
    "        for j in range(len(temp_dataset)):\n",
    "            temp = temp + temp_dataset.iloc[j, i]**2\n",
    "        temp = temp**0.5\n",
    "        for j in range(len(temp_dataset)):\n",
    "            temp_dataset.iat[j, i] = (\n",
    "                temp_dataset.iloc[j, i] / temp)*weights[i-1]\n",
    "    return temp_dataset"
   ]
  },
  {
   "cell_type": "code",
   "execution_count": 10,
   "metadata": {},
   "outputs": [],
   "source": [
    "\n",
    "def Calc_Values(temp_dataset, nCol, impact):\n",
    "    # print(\" Calculating Positive and Negative values...\\n\")\n",
    "    p_sln = (temp_dataset.max().values)[1:]\n",
    "    n_sln = (temp_dataset.min().values)[1:]\n",
    "    for i in range(1, nCol):\n",
    "        if impact[i-1] == '-':\n",
    "            p_sln[i-1], n_sln[i-1] = n_sln[i-1], p_sln[i-1]\n",
    "    return p_sln, n_sln\n"
   ]
  },
  {
   "cell_type": "code",
   "execution_count": 54,
   "metadata": {},
   "outputs": [],
   "source": [
    "def topsis(temp_dataset, dataset, nCol, weights, impact):\n",
    "    # brings everything together\n",
    "    # normalizing the array\n",
    "    temp_dataset = Normalize(temp_dataset, nCol, weights)\n",
    "\n",
    "    # Calculating positive and negative values\n",
    "    p_sln, n_sln = Calc_Values(temp_dataset, nCol, impact)\n",
    "\n",
    "    # calculating topsis score\n",
    "    # print(\" Generating Score and Rank...\\n\")\n",
    "    score = []\n",
    "    for i in range(len(temp_dataset)):\n",
    "        temp_p, temp_n = 0, 0\n",
    "        for j in range(1, nCol):\n",
    "            temp_p = temp_p + (p_sln[j-1] - temp_dataset.iloc[i, j])**2\n",
    "            temp_n = temp_n + (n_sln[j-1] - temp_dataset.iloc[i, j])**2\n",
    "        temp_p, temp_n = temp_p**0.5, temp_n**0.5\n",
    "        score.append(temp_n/(temp_p + temp_n))\n",
    "    dataset['TOPSIS Score'] = score\n",
    "\n",
    "    # calculating the rank according to topsis score\n",
    "    dataset['Rank'] = (dataset['TOPSIS Score'].rank(\n",
    "        method='max', ascending=True))\n",
    "    dataset = dataset.astype({\"Rank\": int})\n",
    "\n",
    "    print(\"Results:\")\n",
    "    print(\"CI\", dataset)\n",
    "\n",
    "    # dataset.to_csv(\"results.csv\", index=False)\n",
    "    dataset.to_csv(\"results.csv\", index=True, index_label=\"Country\")\n"
   ]
  },
  {
   "cell_type": "code",
   "execution_count": 68,
   "metadata": {},
   "outputs": [
    {
     "name": "stdout",
     "output_type": "stream",
     "text": [
      "Dummy Data:\n",
      "                 HDI  Education  Inequality\n",
      "Country                                    \n",
      "Afghanistan    0.511      0.414        28.2\n",
      "Australia      0.944      0.924         8.0\n",
      "Brazil         0.765      0.694        23.8\n",
      "Germany        0.947      0.943         7.9\n",
      "United States  0.926      0.900        12.4\n",
      "\n",
      "Results:\n",
      "CI    TOPSIS Score  Rank\n",
      "0      0.144988     1\n",
      "1      0.848215     3\n",
      "2      0.536144     2\n",
      "3      0.855012     4\n",
      "4      0.855739     5\n"
     ]
    }
   ],
   "source": [
    "data = pd.read_csv(\"data.csv\")\n",
    "data.set_index('Country', inplace=True)\n",
    "newData = pd.DataFrame()\n",
    "\n",
    "\n",
    "print(\"Dummy Data:\")\n",
    "print(data)\n",
    "print(\"\")\n",
    "\n",
    "\n",
    "nCol = len(data.columns.values)\n",
    "weights = [10, 1, 1]\n",
    "impact = ['+', '+', '-']\n",
    "\n",
    "# need to show country in result\n",
    "# test with large dataset\n",
    "results = topsis(data, newData, nCol, weights, impact)\n",
    "\n",
    "\n"
   ]
  },
  {
   "cell_type": "code",
   "execution_count": null,
   "metadata": {},
   "outputs": [],
   "source": []
  }
 ],
 "metadata": {
  "interpreter": {
   "hash": "aee8b7b246df8f9039afb4144a1f6fd8d2ca17a180786b69acc140d282b71a49"
  },
  "kernelspec": {
   "display_name": "Python 3.9.7 64-bit",
   "language": "python",
   "name": "python3"
  },
  "language_info": {
   "codemirror_mode": {
    "name": "ipython",
    "version": 3
   },
   "file_extension": ".py",
   "mimetype": "text/x-python",
   "name": "python",
   "nbconvert_exporter": "python",
   "pygments_lexer": "ipython3",
   "version": "3.10.1"
  },
  "orig_nbformat": 4
 },
 "nbformat": 4,
 "nbformat_minor": 2
}
